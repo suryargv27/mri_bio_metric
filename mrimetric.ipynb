{
 "cells": [
  {
   "cell_type": "code",
   "execution_count": 1,
   "metadata": {},
   "outputs": [],
   "source": [
    "##### Required packages\n",
    "# opencv-python\n",
    "# matplotlib\n",
    "# sklearn\n",
    "# tensorflow\n",
    "# keras\n",
    "# numpy\n",
    "\n",
    "import os\n",
    "import cv2\n",
    "import numpy as np\n",
    "import re\n",
    "import matplotlib.pyplot as plt\n",
    "from sklearn.decomposition import PCA\n",
    "\n",
    "# Directory containing the data\n",
    "data_dir = \"Data/Mild Dementia\"\n",
    "\n",
    "# Number of components for PCA\n",
    "n_components = 64\n",
    "\n",
    "# Lists to store preprocessed features and labels\n",
    "preprocessed_features = []\n",
    "labels = []\n",
    "\n",
    "\n",
    "# Function to denoise and enhance an image\n",
    "def denoise_and_enhance(image):\n",
    "    # Convert the image to grayscale\n",
    "    gray_img = cv2.cvtColor(image, cv2.COLOR_BGR2GRAY)\n",
    "    # Apply Gaussian blur for denoising\n",
    "    denoised_img = cv2.GaussianBlur(gray_img, (3, 3), 0)\n",
    "    # Apply histogram equalization for enhancing contrast\n",
    "    enhanced_img = cv2.equalizeHist(denoised_img)\n",
    "    return enhanced_img\n",
    "\n",
    "\n",
    "# Function to apply contraharmonic mean filter\n",
    "def contraharmonic_mean_filter(img, Q):\n",
    "    num = np.power(img, Q + 1)\n",
    "    denom = np.power(img, Q)\n",
    "    kernel = np.full((3, 3), 1.0)\n",
    "    result = cv2.filter2D(num, -1, kernel) / (cv2.filter2D(denom, -1, kernel) + 1e-6)\n",
    "    return result\n",
    "\n",
    "\n",
    "# Function to generate Gabor filters\n",
    "def get_gabor_filters():\n",
    "    filters = []\n",
    "    num_filters = 16\n",
    "    ksize = 15\n",
    "    sigma = 3.0\n",
    "    lambd = 10.0\n",
    "    gamma = 0.5\n",
    "    psi = 0\n",
    "    for theta in np.arange(0, np.pi, np.pi / num_filters):\n",
    "        # Generate Gabor kernel for each orientation\n",
    "        kern = cv2.getGaborKernel(\n",
    "            (ksize, ksize), sigma, theta, lambd, gamma, psi, ktype=cv2.CV_64F\n",
    "        )\n",
    "        kern /= 1.0 * kern.sum()\n",
    "        filters.append(kern)\n",
    "    return filters\n",
    "\n",
    "\n",
    "# Get Gabor filters\n",
    "gabor_bank = get_gabor_filters()\n",
    "\n",
    "\n",
    "# Function to extract Gabor features from an image\n",
    "def extract_gabor_features(image):\n",
    "    global gabor_bank\n",
    "    final_image = np.zeros_like(image)\n",
    "    depth = -1\n",
    "    for filter in gabor_bank:\n",
    "        # Apply each Gabor filter to the image and take element-wise maximum\n",
    "        filtered_image = cv2.filter2D(image, depth, filter)\n",
    "        np.maximum(final_image, filtered_image, final_image)\n",
    "    return final_image\n",
    "\n",
    "\n",
    "# Function to apply Principal Component Analysis (PCA) for feature reduction\n",
    "def apply_pca(features):\n",
    "    pca = PCA(n_components=n_components)\n",
    "    reduced_features = pca.fit_transform(features)\n",
    "    return reduced_features\n",
    "\n",
    "\n",
    "# Regular expressions to extract information from filenames\n",
    "pattern_id1 = r\"(?<=_)\\d{4}\"  # Extract ID\n",
    "pattern_id3 = r\"\\d+(?=\\.)\"  # Extract slice number\n",
    "\n",
    "# Iterate through each image file in the directory\n",
    "filenames = sorted(os.listdir(data_dir))\n",
    "for filename in filenames:\n",
    "    id = re.search(pattern_id1, filename).group(0)\n",
    "    slice = int(re.search(pattern_id3, filename).group(0))\n",
    "\n",
    "    # Select images with slice numbers between 120 and 139\n",
    "    if slice >= 120 and slice < 140:\n",
    "        image_path = os.path.join(data_dir, filename)\n",
    "\n",
    "        if filename.endswith(\".jpg\"):\n",
    "            # Read image\n",
    "            image = cv2.imread(image_path)\n",
    "            # Preprocess image (denoise and enhance)\n",
    "            enhanced_image = denoise_and_enhance(image)\n",
    "            # Apply contraharmonic mean filter\n",
    "            contra_enhanced_image = contraharmonic_mean_filter(enhanced_image, 0.5)\n",
    "            # Extract Gabor features\n",
    "            gabor_features = extract_gabor_features(contra_enhanced_image)\n",
    "            # Apply PCA for feature reduction\n",
    "            compressed_features = apply_pca(gabor_features)\n",
    "            # Store preprocessed features and labels\n",
    "            preprocessed_features.append(compressed_features)\n",
    "            labels.append(id)"
   ]
  },
  {
   "cell_type": "code",
   "execution_count": 2,
   "metadata": {},
   "outputs": [
    {
     "name": "stderr",
     "output_type": "stream",
     "text": [
      "2024-05-14 17:03:25.148221: I tensorflow/core/util/port.cc:113] oneDNN custom operations are on. You may see slightly different numerical results due to floating-point round-off errors from different computation orders. To turn them off, set the environment variable `TF_ENABLE_ONEDNN_OPTS=0`.\n",
      "2024-05-14 17:03:25.150315: I external/local_tsl/tsl/cuda/cudart_stub.cc:32] Could not find cuda drivers on your machine, GPU will not be used.\n",
      "2024-05-14 17:03:25.206175: I external/local_tsl/tsl/cuda/cudart_stub.cc:32] Could not find cuda drivers on your machine, GPU will not be used.\n",
      "2024-05-14 17:03:25.460020: I tensorflow/core/platform/cpu_feature_guard.cc:210] This TensorFlow binary is optimized to use available CPU instructions in performance-critical operations.\n",
      "To enable the following instructions: AVX2 AVX512F AVX512_VNNI FMA, in other operations, rebuild TensorFlow with the appropriate compiler flags.\n",
      "2024-05-14 17:03:26.567750: W tensorflow/compiler/tf2tensorrt/utils/py_utils.cc:38] TF-TRT Warning: Could not find TensorRT\n"
     ]
    },
    {
     "name": "stdout",
     "output_type": "stream",
     "text": [
      "No.of Samples : 1640\n",
      "No.of Classes : 21\n",
      "Images shape  : (1640, 248, 64)\n",
      "Labels shape  : (1640, 21)\n"
     ]
    }
   ],
   "source": [
    "import numpy as np\n",
    "from sklearn.preprocessing import LabelEncoder\n",
    "import tensorflow as tf\n",
    "\n",
    "# Print the number of samples (images) and the number of classes (unique labels)\n",
    "print(\"No.of Samples :\", len(labels))\n",
    "distinct_labels = set(labels)\n",
    "num_classes = len(distinct_labels)\n",
    "print(\"No.of Classes :\", num_classes)\n",
    "\n",
    "# Convert preprocessed features and labels to numpy arrays\n",
    "images = np.array(preprocessed_features)\n",
    "class_labels = np.array(labels)\n",
    "\n",
    "# Initialize a LabelEncoder to convert class labels to integers\n",
    "label_encoder = LabelEncoder()\n",
    "# Fit the LabelEncoder on the unique class labels and transform the labels to integers\n",
    "label_encoder.fit(np.unique(labels))\n",
    "labels_encoded = label_encoder.transform(labels)\n",
    "# Convert integer labels to one-hot encoded categorical labels\n",
    "labels_categorical = tf.keras.utils.to_categorical(labels_encoded, num_classes)\n",
    "\n",
    "# Print the shapes of the images and labels\n",
    "print(\"Images shape  :\", images.shape)\n",
    "print(\"Labels shape  :\", labels_categorical.shape)\n",
    "\n",
    "# Define the input shape for the neural network\n",
    "input_shape = images[0].shape"
   ]
  },
  {
   "cell_type": "code",
   "execution_count": 3,
   "metadata": {},
   "outputs": [],
   "source": [
    "from sklearn.model_selection import train_test_split\n",
    "\n",
    "# Split the data into training and testing sets\n",
    "# x_train: training images, x_test: testing images\n",
    "# y_train: corresponding training labels, y_test: corresponding testing labels\n",
    "# test_size: the proportion of the dataset to include in the test split\n",
    "# shuffle: whether to shuffle the data before splitting\n",
    "# random_state: seed for random number generation, ensures reproducibility\n",
    "x_train, x_test, y_train, y_test = train_test_split(\n",
    "    images, labels_categorical, test_size=0.15, shuffle=True, random_state=42\n",
    ")"
   ]
  },
  {
   "cell_type": "code",
   "execution_count": 4,
   "metadata": {},
   "outputs": [
    {
     "name": "stderr",
     "output_type": "stream",
     "text": [
      "/home/surya/IIITDM/Sem_6/ITB/mrimetric/.venv/lib/python3.12/site-packages/keras/src/layers/convolutional/base_conv.py:107: UserWarning: Do not pass an `input_shape`/`input_dim` argument to a layer. When using Sequential models, prefer using an `Input(shape)` object as the first layer in the model instead.\n",
      "  super().__init__(activity_regularizer=activity_regularizer, **kwargs)\n"
     ]
    },
    {
     "data": {
      "text/html": [
       "<pre style=\"white-space:pre;overflow-x:auto;line-height:normal;font-family:Menlo,'DejaVu Sans Mono',consolas,'Courier New',monospace\"><span style=\"font-weight: bold\">Model: \"sequential\"</span>\n",
       "</pre>\n"
      ],
      "text/plain": [
       "\u001b[1mModel: \"sequential\"\u001b[0m\n"
      ]
     },
     "metadata": {},
     "output_type": "display_data"
    },
    {
     "data": {
      "text/html": [
       "<pre style=\"white-space:pre;overflow-x:auto;line-height:normal;font-family:Menlo,'DejaVu Sans Mono',consolas,'Courier New',monospace\">┏━━━━━━━━━━━━━━━━━━━━━━━━━━━━━━━━━┳━━━━━━━━━━━━━━━━━━━━━━━━┳━━━━━━━━━━━━━━━┓\n",
       "┃<span style=\"font-weight: bold\"> Layer (type)                    </span>┃<span style=\"font-weight: bold\"> Output Shape           </span>┃<span style=\"font-weight: bold\">       Param # </span>┃\n",
       "┡━━━━━━━━━━━━━━━━━━━━━━━━━━━━━━━━━╇━━━━━━━━━━━━━━━━━━━━━━━━╇━━━━━━━━━━━━━━━┩\n",
       "│ conv2d (<span style=\"color: #0087ff; text-decoration-color: #0087ff\">Conv2D</span>)                 │ (<span style=\"color: #00d7ff; text-decoration-color: #00d7ff\">None</span>, <span style=\"color: #00af00; text-decoration-color: #00af00\">248</span>, <span style=\"color: #00af00; text-decoration-color: #00af00\">64</span>, <span style=\"color: #00af00; text-decoration-color: #00af00\">32</span>)    │           <span style=\"color: #00af00; text-decoration-color: #00af00\">160</span> │\n",
       "├─────────────────────────────────┼────────────────────────┼───────────────┤\n",
       "│ conv2d_1 (<span style=\"color: #0087ff; text-decoration-color: #0087ff\">Conv2D</span>)               │ (<span style=\"color: #00d7ff; text-decoration-color: #00d7ff\">None</span>, <span style=\"color: #00af00; text-decoration-color: #00af00\">248</span>, <span style=\"color: #00af00; text-decoration-color: #00af00\">64</span>, <span style=\"color: #00af00; text-decoration-color: #00af00\">32</span>)    │         <span style=\"color: #00af00; text-decoration-color: #00af00\">4,128</span> │\n",
       "├─────────────────────────────────┼────────────────────────┼───────────────┤\n",
       "│ batch_normalization             │ (<span style=\"color: #00d7ff; text-decoration-color: #00d7ff\">None</span>, <span style=\"color: #00af00; text-decoration-color: #00af00\">248</span>, <span style=\"color: #00af00; text-decoration-color: #00af00\">64</span>, <span style=\"color: #00af00; text-decoration-color: #00af00\">32</span>)    │           <span style=\"color: #00af00; text-decoration-color: #00af00\">128</span> │\n",
       "│ (<span style=\"color: #0087ff; text-decoration-color: #0087ff\">BatchNormalization</span>)            │                        │               │\n",
       "├─────────────────────────────────┼────────────────────────┼───────────────┤\n",
       "│ max_pooling2d (<span style=\"color: #0087ff; text-decoration-color: #0087ff\">MaxPooling2D</span>)    │ (<span style=\"color: #00d7ff; text-decoration-color: #00d7ff\">None</span>, <span style=\"color: #00af00; text-decoration-color: #00af00\">124</span>, <span style=\"color: #00af00; text-decoration-color: #00af00\">32</span>, <span style=\"color: #00af00; text-decoration-color: #00af00\">32</span>)    │             <span style=\"color: #00af00; text-decoration-color: #00af00\">0</span> │\n",
       "├─────────────────────────────────┼────────────────────────┼───────────────┤\n",
       "│ dropout (<span style=\"color: #0087ff; text-decoration-color: #0087ff\">Dropout</span>)               │ (<span style=\"color: #00d7ff; text-decoration-color: #00d7ff\">None</span>, <span style=\"color: #00af00; text-decoration-color: #00af00\">124</span>, <span style=\"color: #00af00; text-decoration-color: #00af00\">32</span>, <span style=\"color: #00af00; text-decoration-color: #00af00\">32</span>)    │             <span style=\"color: #00af00; text-decoration-color: #00af00\">0</span> │\n",
       "├─────────────────────────────────┼────────────────────────┼───────────────┤\n",
       "│ conv2d_2 (<span style=\"color: #0087ff; text-decoration-color: #0087ff\">Conv2D</span>)               │ (<span style=\"color: #00d7ff; text-decoration-color: #00d7ff\">None</span>, <span style=\"color: #00af00; text-decoration-color: #00af00\">124</span>, <span style=\"color: #00af00; text-decoration-color: #00af00\">32</span>, <span style=\"color: #00af00; text-decoration-color: #00af00\">64</span>)    │         <span style=\"color: #00af00; text-decoration-color: #00af00\">8,256</span> │\n",
       "├─────────────────────────────────┼────────────────────────┼───────────────┤\n",
       "│ conv2d_3 (<span style=\"color: #0087ff; text-decoration-color: #0087ff\">Conv2D</span>)               │ (<span style=\"color: #00d7ff; text-decoration-color: #00d7ff\">None</span>, <span style=\"color: #00af00; text-decoration-color: #00af00\">124</span>, <span style=\"color: #00af00; text-decoration-color: #00af00\">32</span>, <span style=\"color: #00af00; text-decoration-color: #00af00\">64</span>)    │        <span style=\"color: #00af00; text-decoration-color: #00af00\">16,448</span> │\n",
       "├─────────────────────────────────┼────────────────────────┼───────────────┤\n",
       "│ batch_normalization_1           │ (<span style=\"color: #00d7ff; text-decoration-color: #00d7ff\">None</span>, <span style=\"color: #00af00; text-decoration-color: #00af00\">124</span>, <span style=\"color: #00af00; text-decoration-color: #00af00\">32</span>, <span style=\"color: #00af00; text-decoration-color: #00af00\">64</span>)    │           <span style=\"color: #00af00; text-decoration-color: #00af00\">256</span> │\n",
       "│ (<span style=\"color: #0087ff; text-decoration-color: #0087ff\">BatchNormalization</span>)            │                        │               │\n",
       "├─────────────────────────────────┼────────────────────────┼───────────────┤\n",
       "│ max_pooling2d_1 (<span style=\"color: #0087ff; text-decoration-color: #0087ff\">MaxPooling2D</span>)  │ (<span style=\"color: #00d7ff; text-decoration-color: #00d7ff\">None</span>, <span style=\"color: #00af00; text-decoration-color: #00af00\">62</span>, <span style=\"color: #00af00; text-decoration-color: #00af00\">16</span>, <span style=\"color: #00af00; text-decoration-color: #00af00\">64</span>)     │             <span style=\"color: #00af00; text-decoration-color: #00af00\">0</span> │\n",
       "├─────────────────────────────────┼────────────────────────┼───────────────┤\n",
       "│ dropout_1 (<span style=\"color: #0087ff; text-decoration-color: #0087ff\">Dropout</span>)             │ (<span style=\"color: #00d7ff; text-decoration-color: #00d7ff\">None</span>, <span style=\"color: #00af00; text-decoration-color: #00af00\">62</span>, <span style=\"color: #00af00; text-decoration-color: #00af00\">16</span>, <span style=\"color: #00af00; text-decoration-color: #00af00\">64</span>)     │             <span style=\"color: #00af00; text-decoration-color: #00af00\">0</span> │\n",
       "├─────────────────────────────────┼────────────────────────┼───────────────┤\n",
       "│ flatten (<span style=\"color: #0087ff; text-decoration-color: #0087ff\">Flatten</span>)               │ (<span style=\"color: #00d7ff; text-decoration-color: #00d7ff\">None</span>, <span style=\"color: #00af00; text-decoration-color: #00af00\">63488</span>)          │             <span style=\"color: #00af00; text-decoration-color: #00af00\">0</span> │\n",
       "├─────────────────────────────────┼────────────────────────┼───────────────┤\n",
       "│ dense (<span style=\"color: #0087ff; text-decoration-color: #0087ff\">Dense</span>)                   │ (<span style=\"color: #00d7ff; text-decoration-color: #00d7ff\">None</span>, <span style=\"color: #00af00; text-decoration-color: #00af00\">512</span>)            │    <span style=\"color: #00af00; text-decoration-color: #00af00\">32,506,368</span> │\n",
       "├─────────────────────────────────┼────────────────────────┼───────────────┤\n",
       "│ dropout_2 (<span style=\"color: #0087ff; text-decoration-color: #0087ff\">Dropout</span>)             │ (<span style=\"color: #00d7ff; text-decoration-color: #00d7ff\">None</span>, <span style=\"color: #00af00; text-decoration-color: #00af00\">512</span>)            │             <span style=\"color: #00af00; text-decoration-color: #00af00\">0</span> │\n",
       "├─────────────────────────────────┼────────────────────────┼───────────────┤\n",
       "│ dense_1 (<span style=\"color: #0087ff; text-decoration-color: #0087ff\">Dense</span>)                 │ (<span style=\"color: #00d7ff; text-decoration-color: #00d7ff\">None</span>, <span style=\"color: #00af00; text-decoration-color: #00af00\">21</span>)             │        <span style=\"color: #00af00; text-decoration-color: #00af00\">10,773</span> │\n",
       "└─────────────────────────────────┴────────────────────────┴───────────────┘\n",
       "</pre>\n"
      ],
      "text/plain": [
       "┏━━━━━━━━━━━━━━━━━━━━━━━━━━━━━━━━━┳━━━━━━━━━━━━━━━━━━━━━━━━┳━━━━━━━━━━━━━━━┓\n",
       "┃\u001b[1m \u001b[0m\u001b[1mLayer (type)                   \u001b[0m\u001b[1m \u001b[0m┃\u001b[1m \u001b[0m\u001b[1mOutput Shape          \u001b[0m\u001b[1m \u001b[0m┃\u001b[1m \u001b[0m\u001b[1m      Param #\u001b[0m\u001b[1m \u001b[0m┃\n",
       "┡━━━━━━━━━━━━━━━━━━━━━━━━━━━━━━━━━╇━━━━━━━━━━━━━━━━━━━━━━━━╇━━━━━━━━━━━━━━━┩\n",
       "│ conv2d (\u001b[38;5;33mConv2D\u001b[0m)                 │ (\u001b[38;5;45mNone\u001b[0m, \u001b[38;5;34m248\u001b[0m, \u001b[38;5;34m64\u001b[0m, \u001b[38;5;34m32\u001b[0m)    │           \u001b[38;5;34m160\u001b[0m │\n",
       "├─────────────────────────────────┼────────────────────────┼───────────────┤\n",
       "│ conv2d_1 (\u001b[38;5;33mConv2D\u001b[0m)               │ (\u001b[38;5;45mNone\u001b[0m, \u001b[38;5;34m248\u001b[0m, \u001b[38;5;34m64\u001b[0m, \u001b[38;5;34m32\u001b[0m)    │         \u001b[38;5;34m4,128\u001b[0m │\n",
       "├─────────────────────────────────┼────────────────────────┼───────────────┤\n",
       "│ batch_normalization             │ (\u001b[38;5;45mNone\u001b[0m, \u001b[38;5;34m248\u001b[0m, \u001b[38;5;34m64\u001b[0m, \u001b[38;5;34m32\u001b[0m)    │           \u001b[38;5;34m128\u001b[0m │\n",
       "│ (\u001b[38;5;33mBatchNormalization\u001b[0m)            │                        │               │\n",
       "├─────────────────────────────────┼────────────────────────┼───────────────┤\n",
       "│ max_pooling2d (\u001b[38;5;33mMaxPooling2D\u001b[0m)    │ (\u001b[38;5;45mNone\u001b[0m, \u001b[38;5;34m124\u001b[0m, \u001b[38;5;34m32\u001b[0m, \u001b[38;5;34m32\u001b[0m)    │             \u001b[38;5;34m0\u001b[0m │\n",
       "├─────────────────────────────────┼────────────────────────┼───────────────┤\n",
       "│ dropout (\u001b[38;5;33mDropout\u001b[0m)               │ (\u001b[38;5;45mNone\u001b[0m, \u001b[38;5;34m124\u001b[0m, \u001b[38;5;34m32\u001b[0m, \u001b[38;5;34m32\u001b[0m)    │             \u001b[38;5;34m0\u001b[0m │\n",
       "├─────────────────────────────────┼────────────────────────┼───────────────┤\n",
       "│ conv2d_2 (\u001b[38;5;33mConv2D\u001b[0m)               │ (\u001b[38;5;45mNone\u001b[0m, \u001b[38;5;34m124\u001b[0m, \u001b[38;5;34m32\u001b[0m, \u001b[38;5;34m64\u001b[0m)    │         \u001b[38;5;34m8,256\u001b[0m │\n",
       "├─────────────────────────────────┼────────────────────────┼───────────────┤\n",
       "│ conv2d_3 (\u001b[38;5;33mConv2D\u001b[0m)               │ (\u001b[38;5;45mNone\u001b[0m, \u001b[38;5;34m124\u001b[0m, \u001b[38;5;34m32\u001b[0m, \u001b[38;5;34m64\u001b[0m)    │        \u001b[38;5;34m16,448\u001b[0m │\n",
       "├─────────────────────────────────┼────────────────────────┼───────────────┤\n",
       "│ batch_normalization_1           │ (\u001b[38;5;45mNone\u001b[0m, \u001b[38;5;34m124\u001b[0m, \u001b[38;5;34m32\u001b[0m, \u001b[38;5;34m64\u001b[0m)    │           \u001b[38;5;34m256\u001b[0m │\n",
       "│ (\u001b[38;5;33mBatchNormalization\u001b[0m)            │                        │               │\n",
       "├─────────────────────────────────┼────────────────────────┼───────────────┤\n",
       "│ max_pooling2d_1 (\u001b[38;5;33mMaxPooling2D\u001b[0m)  │ (\u001b[38;5;45mNone\u001b[0m, \u001b[38;5;34m62\u001b[0m, \u001b[38;5;34m16\u001b[0m, \u001b[38;5;34m64\u001b[0m)     │             \u001b[38;5;34m0\u001b[0m │\n",
       "├─────────────────────────────────┼────────────────────────┼───────────────┤\n",
       "│ dropout_1 (\u001b[38;5;33mDropout\u001b[0m)             │ (\u001b[38;5;45mNone\u001b[0m, \u001b[38;5;34m62\u001b[0m, \u001b[38;5;34m16\u001b[0m, \u001b[38;5;34m64\u001b[0m)     │             \u001b[38;5;34m0\u001b[0m │\n",
       "├─────────────────────────────────┼────────────────────────┼───────────────┤\n",
       "│ flatten (\u001b[38;5;33mFlatten\u001b[0m)               │ (\u001b[38;5;45mNone\u001b[0m, \u001b[38;5;34m63488\u001b[0m)          │             \u001b[38;5;34m0\u001b[0m │\n",
       "├─────────────────────────────────┼────────────────────────┼───────────────┤\n",
       "│ dense (\u001b[38;5;33mDense\u001b[0m)                   │ (\u001b[38;5;45mNone\u001b[0m, \u001b[38;5;34m512\u001b[0m)            │    \u001b[38;5;34m32,506,368\u001b[0m │\n",
       "├─────────────────────────────────┼────────────────────────┼───────────────┤\n",
       "│ dropout_2 (\u001b[38;5;33mDropout\u001b[0m)             │ (\u001b[38;5;45mNone\u001b[0m, \u001b[38;5;34m512\u001b[0m)            │             \u001b[38;5;34m0\u001b[0m │\n",
       "├─────────────────────────────────┼────────────────────────┼───────────────┤\n",
       "│ dense_1 (\u001b[38;5;33mDense\u001b[0m)                 │ (\u001b[38;5;45mNone\u001b[0m, \u001b[38;5;34m21\u001b[0m)             │        \u001b[38;5;34m10,773\u001b[0m │\n",
       "└─────────────────────────────────┴────────────────────────┴───────────────┘\n"
      ]
     },
     "metadata": {},
     "output_type": "display_data"
    },
    {
     "data": {
      "text/html": [
       "<pre style=\"white-space:pre;overflow-x:auto;line-height:normal;font-family:Menlo,'DejaVu Sans Mono',consolas,'Courier New',monospace\"><span style=\"font-weight: bold\"> Total params: </span><span style=\"color: #00af00; text-decoration-color: #00af00\">32,546,517</span> (124.16 MB)\n",
       "</pre>\n"
      ],
      "text/plain": [
       "\u001b[1m Total params: \u001b[0m\u001b[38;5;34m32,546,517\u001b[0m (124.16 MB)\n"
      ]
     },
     "metadata": {},
     "output_type": "display_data"
    },
    {
     "data": {
      "text/html": [
       "<pre style=\"white-space:pre;overflow-x:auto;line-height:normal;font-family:Menlo,'DejaVu Sans Mono',consolas,'Courier New',monospace\"><span style=\"font-weight: bold\"> Trainable params: </span><span style=\"color: #00af00; text-decoration-color: #00af00\">32,546,325</span> (124.15 MB)\n",
       "</pre>\n"
      ],
      "text/plain": [
       "\u001b[1m Trainable params: \u001b[0m\u001b[38;5;34m32,546,325\u001b[0m (124.15 MB)\n"
      ]
     },
     "metadata": {},
     "output_type": "display_data"
    },
    {
     "data": {
      "text/html": [
       "<pre style=\"white-space:pre;overflow-x:auto;line-height:normal;font-family:Menlo,'DejaVu Sans Mono',consolas,'Courier New',monospace\"><span style=\"font-weight: bold\"> Non-trainable params: </span><span style=\"color: #00af00; text-decoration-color: #00af00\">192</span> (768.00 B)\n",
       "</pre>\n"
      ],
      "text/plain": [
       "\u001b[1m Non-trainable params: \u001b[0m\u001b[38;5;34m192\u001b[0m (768.00 B)\n"
      ]
     },
     "metadata": {},
     "output_type": "display_data"
    },
    {
     "name": "stdout",
     "output_type": "stream",
     "text": [
      "None\n"
     ]
    }
   ],
   "source": [
    "from keras import Sequential\n",
    "from keras import (\n",
    "    Conv2D,\n",
    "    Flatten,\n",
    "    Dense,\n",
    "    Dropout,\n",
    "    BatchNormalization,\n",
    "    MaxPooling2D,\n",
    ")\n",
    "\n",
    "# Initialize a sequential model\n",
    "model = Sequential()\n",
    "\n",
    "# Add a 2D convolutional layer with 32 filters, kernel size (2, 2), and input shape\n",
    "model.add(\n",
    "    Conv2D(\n",
    "        32,\n",
    "        kernel_size=(2, 2),\n",
    "        input_shape=(input_shape[0], input_shape[1], 1),\n",
    "        padding=\"Same\",\n",
    "    )\n",
    ")\n",
    "# Add another 2D convolutional layer with 32 filters and kernel size (2, 2)\n",
    "model.add(Conv2D(32, kernel_size=(2, 2), activation=\"relu\", padding=\"Same\"))\n",
    "\n",
    "# Add batch normalization layer to normalize the activations of the previous layer\n",
    "model.add(BatchNormalization())\n",
    "# Add max pooling layer with pool size (2, 2)\n",
    "model.add(MaxPooling2D(pool_size=(2, 2)))\n",
    "# Add dropout layer with dropout rate of 0.25\n",
    "model.add(Dropout(0.25))\n",
    "\n",
    "# Add another 2D convolutional layer with 64 filters and kernel size (2, 2)\n",
    "model.add(Conv2D(64, kernel_size=(2, 2), activation=\"relu\", padding=\"Same\"))\n",
    "# Add another 2D convolutional layer with 64 filters and kernel size (2, 2)\n",
    "model.add(Conv2D(64, kernel_size=(2, 2), activation=\"relu\", padding=\"Same\"))\n",
    "\n",
    "# Add batch normalization layer\n",
    "model.add(BatchNormalization())\n",
    "# Add max pooling layer with pool size (2, 2) and strides (2, 2)\n",
    "model.add(MaxPooling2D(pool_size=(2, 2), strides=(2, 2)))\n",
    "# Add dropout layer with dropout rate of 0.25\n",
    "model.add(Dropout(0.25))\n",
    "\n",
    "# Flatten the previous layer\n",
    "model.add(Flatten())\n",
    "\n",
    "# Add a fully connected dense layer with 512 neurons and ReLU activation function\n",
    "model.add(Dense(512, activation=\"relu\"))\n",
    "# Add dropout layer with dropout rate of 0.5\n",
    "model.add(Dropout(0.5))\n",
    "# Add output layer with softmax activation function\n",
    "model.add(Dense(num_classes, activation=\"softmax\"))\n",
    "\n",
    "# Compile the model with categorical crossentropy loss and Adamax optimizer\n",
    "model.compile(loss=\"categorical_crossentropy\", optimizer=\"Adamax\", metrics=[\"accuracy\"])\n",
    "\n",
    "# Print model summary\n",
    "print(model.summary())"
   ]
  },
  {
   "cell_type": "code",
   "execution_count": 5,
   "metadata": {},
   "outputs": [
    {
     "name": "stdout",
     "output_type": "stream",
     "text": [
      "Epoch 1/10\n",
      "\u001b[1m140/140\u001b[0m \u001b[32m━━━━━━━━━━━━━━━━━━━━\u001b[0m\u001b[37m\u001b[0m \u001b[1m107s\u001b[0m 749ms/step - accuracy: 0.0900 - loss: 19.7180 - val_accuracy: 0.1341 - val_loss: 2.9864\n",
      "Epoch 2/10\n",
      "\u001b[1m140/140\u001b[0m \u001b[32m━━━━━━━━━━━━━━━━━━━━\u001b[0m\u001b[37m\u001b[0m \u001b[1m105s\u001b[0m 748ms/step - accuracy: 0.1548 - loss: 2.5767 - val_accuracy: 0.2561 - val_loss: 2.5034\n",
      "Epoch 3/10\n",
      "\u001b[1m140/140\u001b[0m \u001b[32m━━━━━━━━━━━━━━━━━━━━\u001b[0m\u001b[37m\u001b[0m \u001b[1m105s\u001b[0m 747ms/step - accuracy: 0.2443 - loss: 2.2368 - val_accuracy: 0.5650 - val_loss: 2.0379\n",
      "Epoch 4/10\n",
      "\u001b[1m140/140\u001b[0m \u001b[32m━━━━━━━━━━━━━━━━━━━━\u001b[0m\u001b[37m\u001b[0m \u001b[1m104s\u001b[0m 741ms/step - accuracy: 0.3624 - loss: 1.8928 - val_accuracy: 0.6951 - val_loss: 1.4729\n",
      "Epoch 5/10\n",
      "\u001b[1m140/140\u001b[0m \u001b[32m━━━━━━━━━━━━━━━━━━━━\u001b[0m\u001b[37m\u001b[0m \u001b[1m104s\u001b[0m 747ms/step - accuracy: 0.5308 - loss: 1.4009 - val_accuracy: 0.7927 - val_loss: 1.1743\n",
      "Epoch 6/10\n",
      "\u001b[1m140/140\u001b[0m \u001b[32m━━━━━━━━━━━━━━━━━━━━\u001b[0m\u001b[37m\u001b[0m \u001b[1m104s\u001b[0m 744ms/step - accuracy: 0.6502 - loss: 1.0627 - val_accuracy: 0.8659 - val_loss: 0.6190\n",
      "Epoch 7/10\n",
      "\u001b[1m140/140\u001b[0m \u001b[32m━━━━━━━━━━━━━━━━━━━━\u001b[0m\u001b[37m\u001b[0m \u001b[1m104s\u001b[0m 743ms/step - accuracy: 0.7350 - loss: 0.7234 - val_accuracy: 0.9593 - val_loss: 0.3986\n",
      "Epoch 8/10\n",
      "\u001b[1m140/140\u001b[0m \u001b[32m━━━━━━━━━━━━━━━━━━━━\u001b[0m\u001b[37m\u001b[0m \u001b[1m92s\u001b[0m 654ms/step - accuracy: 0.8279 - loss: 0.5135 - val_accuracy: 0.9919 - val_loss: 0.1201\n",
      "Epoch 9/10\n",
      "\u001b[1m140/140\u001b[0m \u001b[32m━━━━━━━━━━━━━━━━━━━━\u001b[0m\u001b[37m\u001b[0m \u001b[1m75s\u001b[0m 536ms/step - accuracy: 0.8421 - loss: 0.4289 - val_accuracy: 0.9919 - val_loss: 0.0912\n",
      "Epoch 10/10\n",
      "\u001b[1m140/140\u001b[0m \u001b[32m━━━━━━━━━━━━━━━━━━━━\u001b[0m\u001b[37m\u001b[0m \u001b[1m75s\u001b[0m 534ms/step - accuracy: 0.8977 - loss: 0.3055 - val_accuracy: 0.9878 - val_loss: 0.0532\n"
     ]
    }
   ],
   "source": [
    "# Train the model on the training data\n",
    "# x_train: input training data\n",
    "# y_train: target training data (labels)\n",
    "# epochs: number of epochs to train the model\n",
    "# batch_size: number of samples per gradient update\n",
    "# verbose: verbosity mode (0: silent, 1: progress bar, 2: one line per epoch)\n",
    "# validation_data: data on which to evaluate the loss and any model metrics at the end of each epoch\n",
    "history = model.fit(\n",
    "    x_train,\n",
    "    y_train,\n",
    "    epochs=10,\n",
    "    batch_size=10,\n",
    "    verbose=1,\n",
    "    validation_data=(x_test, y_test),\n",
    ")"
   ]
  },
  {
   "cell_type": "code",
   "execution_count": 6,
   "metadata": {},
   "outputs": [
    {
     "name": "stdout",
     "output_type": "stream",
     "text": [
      "\u001b[1m8/8\u001b[0m \u001b[32m━━━━━━━━━━━━━━━━━━━━\u001b[0m\u001b[37m\u001b[0m \u001b[1m1s\u001b[0m 93ms/step - accuracy: 0.9924 - loss: 0.0484\n",
      "Test Accuracy: 0.9878048896789551\n"
     ]
    },
    {
     "data": {
      "image/png": "[encoded data removed]",
      "text/plain": [
       "<Figure size 640x480 with 1 Axes>"
      ]
     },
     "metadata": {},
     "output_type": "display_data"
    },
    {
     "data": {
      "image/png": "[encoded data removed]",
      "text/plain": [
       "<Figure size 640x480 with 1 Axes>"
      ]
     },
     "metadata": {},
     "output_type": "display_data"
    }
   ],
   "source": [
    "# Evaluate the model on the test data and get the loss and accuracy\n",
    "loss, accuracy = model.evaluate(x_test, y_test)\n",
    "print(\"Test Accuracy:\", accuracy)\n",
    "\n",
    "# Plot the training and validation accuracy over epochs\n",
    "plt.plot(history.history[\"accuracy\"], label=\"accuracy\")  # Training accuracy\n",
    "plt.plot(history.history[\"val_accuracy\"], label=\"val_accuracy\")  # Validation accuracy\n",
    "plt.xlabel(\"Epoch\")\n",
    "plt.ylabel(\"Accuracy\")\n",
    "plt.ylim([0, 1])\n",
    "plt.legend(loc=\"lower right\")\n",
    "plt.show()\n",
    "\n",
    "# Plot the training and validation loss over epochs\n",
    "plt.plot(history.history[\"loss\"], label=\"loss\")  # Training loss\n",
    "plt.plot(history.history[\"val_loss\"], label=\"val_loss\")  # Validation loss\n",
    "plt.xlabel(\"Epoch\")\n",
    "plt.ylabel(\"Loss\")\n",
    "plt.legend(loc=\"lower right\")\n",
    "plt.show()"
   ]
  }
 ],
 "metadata": {
  "kernelspec": {
   "display_name": "Python 3",
   "language": "python",
   "name": "python3"
  },
  "language_info": {
   "codemirror_mode": {
    "name": "ipython",
    "version": 3
   },
   "file_extension": ".py",
   "mimetype": "text/x-python",
   "name": "python",
   "nbconvert_exporter": "python",
   "pygments_lexer": "ipython3",
   "version": "3.12.3"
  }
 },
 "nbformat": 4,
 "nbformat_minor": 2
}
